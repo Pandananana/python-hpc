{
 "cells": [
  {
   "cell_type": "code",
   "execution_count": 27,
   "metadata": {},
   "outputs": [],
   "source": [
    "import pandas as pd\n",
    "from pyarrow import csv\n",
    "from time import perf_counter\n",
    "import sys"
   ]
  },
  {
   "cell_type": "markdown",
   "metadata": {},
   "source": [
    "# Question 2.1"
   ]
  },
  {
   "cell_type": "code",
   "execution_count": 23,
   "metadata": {},
   "outputs": [],
   "source": [
    "def pyarrow_load(fname):\n",
    "    return csv.read_csv(fname)"
   ]
  },
  {
   "cell_type": "code",
   "execution_count": 24,
   "metadata": {},
   "outputs": [
    {
     "name": "stdout",
     "output_type": "stream",
     "text": [
      "Arrow Load:  3.963237050920725\n"
     ]
    }
   ],
   "source": [
    "t1 = perf_counter()\n",
    "table = pyarrow_load(\"/zhome/66/2/168935/uni/python_hpc/exercises/ex7/dmi.csv\")\n",
    "t2 = perf_counter()\n",
    "\n",
    "print(\"Arrow Load: \", t2 - t1)"
   ]
  },
  {
   "cell_type": "markdown",
   "metadata": {},
   "source": [
    "# Question 2.2"
   ]
  },
  {
   "cell_type": "code",
   "execution_count": 25,
   "metadata": {},
   "outputs": [],
   "source": [
    "def pyarrow_load(fname):\n",
    "    return csv.read_csv(fname).to_pandas()"
   ]
  },
  {
   "cell_type": "code",
   "execution_count": 26,
   "metadata": {},
   "outputs": [
    {
     "name": "stdout",
     "output_type": "stream",
     "text": [
      "Arrow Load & Convert:  4.159954827744514\n"
     ]
    }
   ],
   "source": [
    "t1 = perf_counter()\n",
    "table = pyarrow_load(\"/zhome/66/2/168935/uni/python_hpc/exercises/ex7/dmi.csv\")\n",
    "t2 = perf_counter()\n",
    "\n",
    "print(\"Arrow Load & Convert: \", t2 - t1)"
   ]
  },
  {
   "cell_type": "markdown",
   "metadata": {},
   "source": [
    "# Question 2.3"
   ]
  },
  {
   "cell_type": "code",
   "execution_count": 31,
   "metadata": {},
   "outputs": [],
   "source": [
    "def pyarrow_sizes(fname):\n",
    "    table = csv.read_csv(fname)\n",
    "    pandas = table.to_pandas()\n",
    "    \n",
    "    print(\"Pyarrow size: \", sys.getsizeof(table))\n",
    "    print(\"Pandas size : \", sys.getsizeof(pandas))"
   ]
  },
  {
   "cell_type": "code",
   "execution_count": 32,
   "metadata": {},
   "outputs": [
    {
     "name": "stdout",
     "output_type": "stream",
     "text": [
      "Pyarrow size:  532224358\n",
      "Pandas size :  963776701\n"
     ]
    }
   ],
   "source": [
    "pyarrow_sizes(\"/zhome/66/2/168935/uni/python_hpc/exercises/ex7/dmi.csv\")"
   ]
  },
  {
   "cell_type": "code",
   "execution_count": null,
   "metadata": {},
   "outputs": [],
   "source": []
  }
 ],
 "metadata": {
  "kernelspec": {
   "display_name": "Python 3 (ipykernel)",
   "language": "python",
   "name": "python3"
  },
  "language_info": {
   "codemirror_mode": {
    "name": "ipython",
    "version": 3
   },
   "file_extension": ".py",
   "mimetype": "text/x-python",
   "name": "python",
   "nbconvert_exporter": "python",
   "pygments_lexer": "ipython3",
   "version": "3.11.5"
  }
 },
 "nbformat": 4,
 "nbformat_minor": 2
}
