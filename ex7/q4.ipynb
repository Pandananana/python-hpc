{
 "cells": [
  {
   "cell_type": "code",
   "execution_count": 1,
   "metadata": {},
   "outputs": [],
   "source": [
    "import pandas as pd\n",
    "\n",
    "df = pd.read_csv(\"/dtu/projects/02613_2025/data/dmi/2023_01.csv.zip\")"
   ]
  },
  {
   "cell_type": "code",
   "execution_count": 2,
   "metadata": {},
   "outputs": [
    {
     "data": {
      "text/html": [
       "<div>\n",
       "<style scoped>\n",
       "    .dataframe tbody tr th:only-of-type {\n",
       "        vertical-align: middle;\n",
       "    }\n",
       "\n",
       "    .dataframe tbody tr th {\n",
       "        vertical-align: top;\n",
       "    }\n",
       "\n",
       "    .dataframe thead th {\n",
       "        text-align: right;\n",
       "    }\n",
       "</style>\n",
       "<table border=\"1\" class=\"dataframe\">\n",
       "  <thead>\n",
       "    <tr style=\"text-align: right;\">\n",
       "      <th></th>\n",
       "      <th>coordsx</th>\n",
       "      <th>coordsy</th>\n",
       "      <th>created</th>\n",
       "      <th>observed</th>\n",
       "      <th>parameterId</th>\n",
       "      <th>stationId</th>\n",
       "      <th>value</th>\n",
       "    </tr>\n",
       "  </thead>\n",
       "  <tbody>\n",
       "    <tr>\n",
       "      <th>0</th>\n",
       "      <td>9.7875</td>\n",
       "      <td>56.1496</td>\n",
       "      <td>2023-07-07T21:57:06.803045Z</td>\n",
       "      <td>2023-01-17T23:59:00Z</td>\n",
       "      <td>precip_past1min</td>\n",
       "      <td>5185</td>\n",
       "      <td>0.0</td>\n",
       "    </tr>\n",
       "    <tr>\n",
       "      <th>1</th>\n",
       "      <td>8.1465</td>\n",
       "      <td>56.5032</td>\n",
       "      <td>2023-07-07T21:57:44.125851Z</td>\n",
       "      <td>2023-01-17T23:59:00Z</td>\n",
       "      <td>precip_past1min</td>\n",
       "      <td>5296</td>\n",
       "      <td>0.0</td>\n",
       "    </tr>\n",
       "    <tr>\n",
       "      <th>2</th>\n",
       "      <td>9.2877</td>\n",
       "      <td>57.0143</td>\n",
       "      <td>2023-07-07T21:56:34.840129Z</td>\n",
       "      <td>2023-01-17T23:59:00Z</td>\n",
       "      <td>precip_past1min</td>\n",
       "      <td>5085</td>\n",
       "      <td>0.0</td>\n",
       "    </tr>\n",
       "    <tr>\n",
       "      <th>3</th>\n",
       "      <td>8.6652</td>\n",
       "      <td>54.9872</td>\n",
       "      <td>2023-07-07T21:58:08.833412Z</td>\n",
       "      <td>2023-01-17T23:59:00Z</td>\n",
       "      <td>precip_past1min</td>\n",
       "      <td>5355</td>\n",
       "      <td>0.0</td>\n",
       "    </tr>\n",
       "    <tr>\n",
       "      <th>4</th>\n",
       "      <td>12.0981</td>\n",
       "      <td>55.2076</td>\n",
       "      <td>2023-07-07T21:59:11.626531Z</td>\n",
       "      <td>2023-01-17T23:59:00Z</td>\n",
       "      <td>precip_past1min</td>\n",
       "      <td>5889</td>\n",
       "      <td>0.0</td>\n",
       "    </tr>\n",
       "  </tbody>\n",
       "</table>\n",
       "</div>"
      ],
      "text/plain": [
       "   coordsx  coordsy                      created              observed  \\\n",
       "0   9.7875  56.1496  2023-07-07T21:57:06.803045Z  2023-01-17T23:59:00Z   \n",
       "1   8.1465  56.5032  2023-07-07T21:57:44.125851Z  2023-01-17T23:59:00Z   \n",
       "2   9.2877  57.0143  2023-07-07T21:56:34.840129Z  2023-01-17T23:59:00Z   \n",
       "3   8.6652  54.9872  2023-07-07T21:58:08.833412Z  2023-01-17T23:59:00Z   \n",
       "4  12.0981  55.2076  2023-07-07T21:59:11.626531Z  2023-01-17T23:59:00Z   \n",
       "\n",
       "       parameterId  stationId  value  \n",
       "0  precip_past1min       5185    0.0  \n",
       "1  precip_past1min       5296    0.0  \n",
       "2  precip_past1min       5085    0.0  \n",
       "3  precip_past1min       5355    0.0  \n",
       "4  precip_past1min       5889    0.0  "
      ]
     },
     "execution_count": 2,
     "metadata": {},
     "output_type": "execute_result"
    }
   ],
   "source": [
    "df.head()"
   ]
  },
  {
   "cell_type": "code",
   "execution_count": 3,
   "metadata": {},
   "outputs": [
    {
     "name": "stdout",
     "output_type": "stream",
     "text": [
      "          name    dtype   unique  size (MB)\n",
      "0      coordsx  float64      224         62\n",
      "1      coordsy  float64      219         62\n",
      "2      created   object  8142495        652\n",
      "3     observed   object    44640        597\n",
      "4  parameterId   object       47        546\n",
      "5    stationId    int64      247         62\n",
      "6        value  float64    11532         62\n",
      "Total size: 2045.0958003997803 MB\n"
     ]
    }
   ],
   "source": [
    "def summarize_columns(df):\n",
    "\tprint(pd.DataFrame([\n",
    "\t    (\n",
    "\t        c,\n",
    "\t        df[c].dtype,\n",
    "\t        len(df[c].unique()),\n",
    "\t        df[c].memory_usage(deep=True) // (1024**2)\n",
    "\t    ) for c in df.columns\n",
    "\t], columns=['name', 'dtype', 'unique', 'size (MB)']))\n",
    "\tprint('Total size:', df.memory_usage(deep=True).sum() / 1024**2, 'MB')"
   ]
  },
  {
   "cell_type": "code",
   "execution_count": 4,
   "metadata": {},
   "outputs": [],
   "source": [
    "def reduce_dmi_df(df):\n",
    "    df[\"created\"] = pd.to_datetime(df[\"created\"], format='ISO8601')\n",
    "    df[\"observed\"] = pd.to_datetime(df[\"observed\"], format='ISO8601')\n",
    "    df[\"parameterId\"] = df[\"parameterId\"].astype(\"category\")\n",
    "    df[\"stationId\"] = df[\"stationId\"].astype(\"int16\")\n",
    "    return df"
   ]
  },
  {
   "cell_type": "code",
   "execution_count": 5,
   "metadata": {},
   "outputs": [
    {
     "name": "stdout",
     "output_type": "stream",
     "text": [
      "          name                dtype   unique  size (MB)\n",
      "0      coordsx              float64      224         62\n",
      "1      coordsy              float64      219         62\n",
      "2      created  datetime64[ns, UTC]  8142495         62\n",
      "3     observed  datetime64[ns, UTC]    44640         62\n",
      "4  parameterId             category       47          7\n",
      "5    stationId                int16      247         15\n",
      "6        value              float64    11532         62\n",
      "Total size: 333.9117660522461 MB\n"
     ]
    }
   ],
   "source": [
    "df_small = reduce_dmi_df(df.copy())\n",
    "\n",
    "summarize_columns(df_small)"
   ]
  },
  {
   "cell_type": "code",
   "execution_count": null,
   "metadata": {},
   "outputs": [],
   "source": []
  }
 ],
 "metadata": {
  "kernelspec": {
   "display_name": "Python 3 (ipykernel)",
   "language": "python",
   "name": "python3"
  }
 },
 "nbformat": 4,
 "nbformat_minor": 2
}
